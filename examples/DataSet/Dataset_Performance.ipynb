{
 "cells": [
  {
   "cell_type": "markdown",
   "metadata": {},
   "source": [
    "# DataSet Performance\n",
    "\n",
    "This notebook shows the trade-off between inserting data into a database row-by-row and as binary blobs. Inserting the data row-by-row means that we have direct access to all the data and may perform queries directly on the values of the data. On the other hand, as we shall see, this is much slower than inserting the data directly as binary blobs."
   ]
  },
  {
   "cell_type": "markdown",
   "metadata": {},
   "source": [
    "First, we choose a new location for the database to ensure that we don't add a bunch of benchmarking data to the default one."
   ]
  },
  {
   "cell_type": "code",
   "execution_count": 1,
   "metadata": {
    "execution": {
     "iopub.execute_input": "2024-07-04T04:48:46.329136Z",
     "iopub.status.busy": "2024-07-04T04:48:46.328647Z",
     "iopub.status.idle": "2024-07-04T04:48:47.275220Z",
     "shell.execute_reply": "2024-07-04T04:48:47.274509Z"
    }
   },
   "outputs": [
    {
     "name": "stdout",
     "output_type": "stream",
     "text": [
      "Logging hadn't been started.\n",
      "Activating auto-logging. Current session state plus future input saved.\n",
      "Filename       : /home/runner/.qcodes/logs/command_history.log\n",
      "Mode           : append\n",
      "Output logging : True\n",
      "Raw input log  : False\n",
      "Timestamping   : True\n",
      "State          : active\n"
     ]
    },
    {
     "name": "stdout",
     "output_type": "stream",
     "text": [
      "Qcodes Logfile : /home/runner/.qcodes/logs/240704-12937-qcodes.log\n"
     ]
    }
   ],
   "source": [
    "import os\n",
    "\n",
    "cwd = os.getcwd()\n",
    "import qcodes as qc\n",
    "\n",
    "qc.config[\"core\"][\"db_location\"] = os.path.join(cwd, 'testing.db')"
   ]
  },
  {
   "cell_type": "code",
   "execution_count": 2,
   "metadata": {
    "execution": {
     "iopub.execute_input": "2024-07-04T04:48:47.278316Z",
     "iopub.status.busy": "2024-07-04T04:48:47.278099Z",
     "iopub.status.idle": "2024-07-04T04:48:47.567129Z",
     "shell.execute_reply": "2024-07-04T04:48:47.566616Z"
    }
   },
   "outputs": [],
   "source": [
    "%matplotlib inline\n",
    "import time\n",
    "from pathlib import Path\n",
    "\n",
    "import matplotlib.pyplot as plt\n",
    "import numpy as np\n",
    "\n",
    "import qcodes as qc\n",
    "from qcodes.dataset import (\n",
    "    Measurement,\n",
    "    initialise_or_create_database_at,\n",
    "    load_or_create_experiment,\n",
    ")\n",
    "from qcodes.parameters import ManualParameter"
   ]
  },
  {
   "cell_type": "code",
   "execution_count": 3,
   "metadata": {
    "execution": {
     "iopub.execute_input": "2024-07-04T04:48:47.569694Z",
     "iopub.status.busy": "2024-07-04T04:48:47.569328Z",
     "iopub.status.idle": "2024-07-04T04:48:47.614891Z",
     "shell.execute_reply": "2024-07-04T04:48:47.614254Z"
    }
   },
   "outputs": [],
   "source": [
    "initialise_or_create_database_at(Path.cwd() / \"dataset_performance.db\")\n",
    "exp = load_or_create_experiment(experiment_name='tutorial_exp', sample_name=\"no sample\")"
   ]
  },
  {
   "cell_type": "markdown",
   "metadata": {},
   "source": [
    "Here, we define a simple function to benchmark the time it takes to insert n points with either numeric or array data type.\n",
    "We will compare both the time used to call ``add_result`` and the time used for the full measurement."
   ]
  },
  {
   "cell_type": "code",
   "execution_count": 4,
   "metadata": {
    "execution": {
     "iopub.execute_input": "2024-07-04T04:48:47.618149Z",
     "iopub.status.busy": "2024-07-04T04:48:47.617602Z",
     "iopub.status.idle": "2024-07-04T04:48:47.624514Z",
     "shell.execute_reply": "2024-07-04T04:48:47.623980Z"
    }
   },
   "outputs": [],
   "source": [
    "def insert_data(paramtype, npoints, nreps=1):\n",
    "\n",
    "    meas = Measurement(exp=exp)\n",
    "\n",
    "    x1 = ManualParameter('x1')\n",
    "    x2 = ManualParameter('x2')\n",
    "    x3 = ManualParameter('x3')\n",
    "    y1 = ManualParameter('y1')\n",
    "    y2 = ManualParameter('y2')\n",
    "\n",
    "    meas.register_parameter(x1, paramtype=paramtype)\n",
    "    meas.register_parameter(x2, paramtype=paramtype)\n",
    "    meas.register_parameter(x3, paramtype=paramtype)\n",
    "    meas.register_parameter(y1, setpoints=[x1, x2, x3],\n",
    "                            paramtype=paramtype)\n",
    "    meas.register_parameter(y2, setpoints=[x1, x2, x3],\n",
    "                            paramtype=paramtype)\n",
    "    start = time.perf_counter()\n",
    "    with meas.run() as datasaver:\n",
    "        start_adding = time.perf_counter()\n",
    "        for i in range(nreps):\n",
    "            datasaver.add_result((x1, np.random.rand(npoints)),\n",
    "                                 (x2, np.random.rand(npoints)),\n",
    "                                 (x3, np.random.rand(npoints)),\n",
    "                                 (y1, np.random.rand(npoints)),\n",
    "                                 (y2, np.random.rand(npoints)))\n",
    "        stop_adding = time.perf_counter()\n",
    "        run_id = datasaver.run_id\n",
    "    stop = time.perf_counter()\n",
    "    tot_time = stop - start\n",
    "    add_time = stop_adding - start_adding\n",
    "    return tot_time, add_time, run_id"
   ]
  },
  {
   "cell_type": "markdown",
   "metadata": {},
   "source": [
    "## Comparison between numeric/array data and binary blob"
   ]
  },
  {
   "cell_type": "markdown",
   "metadata": {},
   "source": [
    "### Case1: Short experiment time"
   ]
  },
  {
   "cell_type": "code",
   "execution_count": 5,
   "metadata": {
    "execution": {
     "iopub.execute_input": "2024-07-04T04:48:47.626919Z",
     "iopub.status.busy": "2024-07-04T04:48:47.626495Z",
     "iopub.status.idle": "2024-07-04T04:48:48.102015Z",
     "shell.execute_reply": "2024-07-04T04:48:48.101332Z"
    }
   },
   "outputs": [
    {
     "name": "stdout",
     "output_type": "stream",
     "text": [
      "Starting experimental run with id: 1. \n",
      "Starting experimental run with id: 2. \n",
      "Starting experimental run with id: 3. \n",
      "Starting experimental run with id: 4. \n",
      "Starting experimental run with id: 5. \n",
      "Starting experimental run with id: 6. \n",
      "Starting experimental run with id: 7. \n"
     ]
    },
    {
     "name": "stdout",
     "output_type": "stream",
     "text": [
      "Starting experimental run with id: 8. \n",
      "Starting experimental run with id: 9. \n",
      "Starting experimental run with id: 10. \n",
      "Starting experimental run with id: 11. \n",
      "Starting experimental run with id: 12. \n",
      "Starting experimental run with id: 13. \n"
     ]
    },
    {
     "name": "stdout",
     "output_type": "stream",
     "text": [
      "Starting experimental run with id: 14. \n"
     ]
    }
   ],
   "source": [
    "sizes = [1,500,1000,2000,3000,4000,5000]\n",
    "t_numeric = []\n",
    "t_numeric_add = []\n",
    "t_array = []\n",
    "t_array_add = []\n",
    "for size in sizes:\n",
    "    tn, tna, run_id_n =  insert_data('numeric', size)\n",
    "    t_numeric.append(tn)\n",
    "    t_numeric_add.append(tna)\n",
    "\n",
    "    ta, taa, run_id_a =  insert_data('array', size)\n",
    "    t_array.append(ta)\n",
    "    t_array_add.append(taa)"
   ]
  },
  {
   "cell_type": "code",
   "execution_count": 6,
   "metadata": {
    "execution": {
     "iopub.execute_input": "2024-07-04T04:48:48.105675Z",
     "iopub.status.busy": "2024-07-04T04:48:48.104564Z",
     "iopub.status.idle": "2024-07-04T04:48:48.333151Z",
     "shell.execute_reply": "2024-07-04T04:48:48.332535Z"
    }
   },
   "outputs": [
    {
     "data": {
      "image/png": "[encoded data removed]",
      "text/plain": [
       "<Figure size 640x480 with 1 Axes>"
      ]
     },
     "metadata": {},
     "output_type": "display_data"
    }
   ],
   "source": [
    "fig, ax = plt.subplots(1,1)\n",
    "ax.plot(sizes, t_numeric, 'o-', label='Inserting row-by-row')\n",
    "ax.plot(sizes, t_numeric_add, 'o-', label='Inserting row-by-row: add_result only')\n",
    "ax.plot(sizes, t_array, 'd-', label='Inserting as binary blob')\n",
    "ax.plot(sizes, t_array_add, 'd-', label='Inserting as binary blob: add_result only')\n",
    "ax.legend()\n",
    "ax.set_xlabel('Array length')\n",
    "ax.set_ylabel('Time (s)')\n",
    "fig.tight_layout()"
   ]
  },
  {
   "cell_type": "markdown",
   "metadata": {},
   "source": [
    "As shown in the latter figure, the time to setup and and close the experiment is approximately 0.4 sec. In case of small array sizes, the difference between inserting values of data as arrays and inserting them row-by-row is relatively unimportant. At larger array sizes, i.e. above 10000 points, the cost of writing data as individual datapoints starts to become important.\n"
   ]
  },
  {
   "cell_type": "markdown",
   "metadata": {},
   "source": [
    "### Case2: Long experiment time "
   ]
  },
  {
   "cell_type": "code",
   "execution_count": 7,
   "metadata": {
    "execution": {
     "iopub.execute_input": "2024-07-04T04:48:48.335688Z",
     "iopub.status.busy": "2024-07-04T04:48:48.335359Z",
     "iopub.status.idle": "2024-07-04T04:49:07.245487Z",
     "shell.execute_reply": "2024-07-04T04:49:07.244861Z"
    }
   },
   "outputs": [
    {
     "name": "stdout",
     "output_type": "stream",
     "text": [
      "Starting experimental run with id: 15. \n",
      "Starting experimental run with id: 16. \n",
      "Starting experimental run with id: 17. \n"
     ]
    },
    {
     "name": "stdout",
     "output_type": "stream",
     "text": [
      "Starting experimental run with id: 18. \n",
      "Starting experimental run with id: 19. \n"
     ]
    },
    {
     "name": "stdout",
     "output_type": "stream",
     "text": [
      "Starting experimental run with id: 20. \n",
      "Starting experimental run with id: 21. \n"
     ]
    },
    {
     "name": "stdout",
     "output_type": "stream",
     "text": [
      "Starting experimental run with id: 22. \n"
     ]
    },
    {
     "name": "stdout",
     "output_type": "stream",
     "text": [
      "Starting experimental run with id: 23. \n"
     ]
    },
    {
     "name": "stdout",
     "output_type": "stream",
     "text": [
      "Starting experimental run with id: 24. \n"
     ]
    },
    {
     "name": "stdout",
     "output_type": "stream",
     "text": [
      "Starting experimental run with id: 25. \n"
     ]
    },
    {
     "name": "stdout",
     "output_type": "stream",
     "text": [
      "Starting experimental run with id: 26. \n"
     ]
    },
    {
     "name": "stdout",
     "output_type": "stream",
     "text": [
      "Starting experimental run with id: 27. \n"
     ]
    },
    {
     "name": "stdout",
     "output_type": "stream",
     "text": [
      "Starting experimental run with id: 28. \n"
     ]
    }
   ],
   "source": [
    "sizes = [1,500,1000,2000,3000,4000,5000]\n",
    "nreps = 100\n",
    "t_numeric = []\n",
    "t_numeric_add = []\n",
    "t_numeric_run_ids = []\n",
    "t_array = []\n",
    "t_array_add = []\n",
    "t_array_run_ids = []\n",
    "for size in sizes:\n",
    "    tn, tna, run_id_n =  insert_data('numeric', size, nreps=nreps)\n",
    "    t_numeric.append(tn)\n",
    "    t_numeric_add.append(tna)\n",
    "    t_numeric_run_ids.append(run_id_n)\n",
    "\n",
    "    ta, taa, run_id_a =  insert_data('array', size, nreps=nreps)\n",
    "    t_array.append(ta)\n",
    "    t_array_add.append(taa)\n",
    "    t_array_run_ids.append(run_id_a)"
   ]
  },
  {
   "cell_type": "code",
   "execution_count": 8,
   "metadata": {
    "execution": {
     "iopub.execute_input": "2024-07-04T04:49:07.248171Z",
     "iopub.status.busy": "2024-07-04T04:49:07.247733Z",
     "iopub.status.idle": "2024-07-04T04:49:07.449948Z",
     "shell.execute_reply": "2024-07-04T04:49:07.449211Z"
    },
    "scrolled": true
   },
   "outputs": [
    {
     "data": {
      "image/png": "[encoded data removed]",
      "text/plain": [
       "<Figure size 640x480 with 1 Axes>"
      ]
     },
     "metadata": {},
     "output_type": "display_data"
    }
   ],
   "source": [
    "fig, ax = plt.subplots(1,1)\n",
    "ax.plot(sizes, t_numeric, 'o-', label='Inserting row-by-row')\n",
    "ax.plot(sizes, t_numeric_add, 'o-', label='Inserting row-by-row: add_result only')\n",
    "ax.plot(sizes, t_array, 'd-', label='Inserting as binary blob')\n",
    "ax.plot(sizes, t_array_add, 'd-', label='Inserting as binary blob: add_result only')\n",
    "ax.legend()\n",
    "ax.set_xlabel('Array length')\n",
    "ax.set_ylabel('Time (s)')\n",
    "fig.tight_layout()"
   ]
  },
  {
   "cell_type": "markdown",
   "metadata": {},
   "source": [
    "However, as we increase the length of the experiment, as seen here by repeating the insertion 100 times, we see a big difference between inserting values of the data row-by-row and inserting it as a binary blob."
   ]
  },
  {
   "cell_type": "markdown",
   "metadata": {},
   "source": [
    "## Loading the data "
   ]
  },
  {
   "cell_type": "code",
   "execution_count": 9,
   "metadata": {
    "execution": {
     "iopub.execute_input": "2024-07-04T04:49:07.452602Z",
     "iopub.status.busy": "2024-07-04T04:49:07.452168Z",
     "iopub.status.idle": "2024-07-04T04:49:07.455498Z",
     "shell.execute_reply": "2024-07-04T04:49:07.454950Z"
    }
   },
   "outputs": [],
   "source": [
    "from qcodes.dataset import load_by_id"
   ]
  },
  {
   "cell_type": "markdown",
   "metadata": {},
   "source": [
    "As usual you can load the data by using the ``load_by_id`` function but you will notice that the different storage methods\n",
    "are reflected in shape of the data as it is retrieved. "
   ]
  },
  {
   "cell_type": "code",
   "execution_count": 10,
   "metadata": {
    "execution": {
     "iopub.execute_input": "2024-07-04T04:49:07.457729Z",
     "iopub.status.busy": "2024-07-04T04:49:07.457347Z",
     "iopub.status.idle": "2024-07-04T04:49:07.460563Z",
     "shell.execute_reply": "2024-07-04T04:49:07.460030Z"
    }
   },
   "outputs": [],
   "source": [
    "run_id_n = t_numeric_run_ids[0]\n",
    "run_id_a = t_array_run_ids[0]"
   ]
  },
  {
   "cell_type": "code",
   "execution_count": 11,
   "metadata": {
    "execution": {
     "iopub.execute_input": "2024-07-04T04:49:07.463072Z",
     "iopub.status.busy": "2024-07-04T04:49:07.462647Z",
     "iopub.status.idle": "2024-07-04T04:49:07.473068Z",
     "shell.execute_reply": "2024-07-04T04:49:07.472352Z"
    },
    "scrolled": true
   },
   "outputs": [
    {
     "data": {
      "text/plain": [
       "{'x1': {'x1': array([0.32386836, 0.32386836, 0.42038836, 0.42038836, 0.12613886,\n",
       "         0.12613886, 0.25855479, 0.25855479, 0.96460136, 0.96460136,\n",
       "         0.86661902, 0.86661902, 0.33926687, 0.33926687, 0.69270066,\n",
       "         0.69270066, 0.19886733, 0.19886733, 0.7702288 , 0.7702288 ,\n",
       "         0.08931271, 0.08931271, 0.71856724, 0.71856724, 0.79575524,\n",
       "         0.79575524, 0.13819614, 0.13819614, 0.72260594, 0.72260594,\n",
       "         0.93146856, 0.93146856, 0.78703992, 0.78703992, 0.84110119,\n",
       "         0.84110119, 0.06285623, 0.06285623, 0.03696218, 0.03696218,\n",
       "         0.49810556, 0.49810556, 0.92093464, 0.92093464, 0.24180435,\n",
       "         0.24180435, 0.18748392, 0.18748392, 0.91021028, 0.91021028,\n",
       "         0.1969857 , 0.1969857 , 0.35731049, 0.35731049, 0.55337864,\n",
       "         0.55337864, 0.36146545, 0.36146545, 0.36184451, 0.36184451,\n",
       "         0.32794209, 0.32794209, 0.46051966, 0.46051966, 0.10106442,\n",
       "         0.10106442, 0.91173947, 0.91173947, 0.50045258, 0.50045258,\n",
       "         0.62846832, 0.62846832, 0.4780477 , 0.4780477 , 0.12693386,\n",
       "         0.12693386, 0.2665331 , 0.2665331 , 0.50521647, 0.50521647,\n",
       "         0.36853664, 0.36853664, 0.37218834, 0.37218834, 0.05630958,\n",
       "         0.05630958, 0.7818485 , 0.7818485 , 0.25520182, 0.25520182,\n",
       "         0.96685006, 0.96685006, 0.06172378, 0.06172378, 0.13305317,\n",
       "         0.13305317, 0.59119889, 0.59119889, 0.27532919, 0.27532919,\n",
       "         0.57498121, 0.57498121, 0.82715739, 0.82715739, 0.5476456 ,\n",
       "         0.5476456 , 0.74433983, 0.74433983, 0.1327057 , 0.1327057 ,\n",
       "         0.93879054, 0.93879054, 0.43643448, 0.43643448, 0.48271042,\n",
       "         0.48271042, 0.92590838, 0.92590838, 0.84463237, 0.84463237,\n",
       "         0.73692222, 0.73692222, 0.7719102 , 0.7719102 , 0.55043865,\n",
       "         0.55043865, 0.63478367, 0.63478367, 0.55942772, 0.55942772,\n",
       "         0.10521334, 0.10521334, 0.17367594, 0.17367594, 0.69427647,\n",
       "         0.69427647, 0.16203189, 0.16203189, 0.89498555, 0.89498555,\n",
       "         0.46694148, 0.46694148, 0.07650834, 0.07650834, 0.98066138,\n",
       "         0.98066138, 0.79728595, 0.79728595, 0.68562853, 0.68562853,\n",
       "         0.39798514, 0.39798514, 0.19215982, 0.19215982, 0.95710027,\n",
       "         0.95710027, 0.98101578, 0.98101578, 0.98409763, 0.98409763,\n",
       "         0.21454723, 0.21454723, 0.59944805, 0.59944805, 0.25569316,\n",
       "         0.25569316, 0.79156303, 0.79156303, 0.48628159, 0.48628159,\n",
       "         0.9166633 , 0.9166633 , 0.01351815, 0.01351815, 0.92289229,\n",
       "         0.92289229, 0.11501755, 0.11501755, 0.05446169, 0.05446169,\n",
       "         0.5522868 , 0.5522868 , 0.60808651, 0.60808651, 0.20772442,\n",
       "         0.20772442, 0.3092037 , 0.3092037 , 0.60657933, 0.60657933,\n",
       "         0.39238051, 0.39238051, 0.80286534, 0.80286534, 0.06938086,\n",
       "         0.06938086, 0.7775132 , 0.7775132 , 0.49006965, 0.49006965])}}"
      ]
     },
     "execution_count": 11,
     "metadata": {},
     "output_type": "execute_result"
    }
   ],
   "source": [
    "ds = load_by_id(run_id_n)\n",
    "ds.get_parameter_data('x1')"
   ]
  },
  {
   "cell_type": "markdown",
   "metadata": {},
   "source": [
    "And a dataset stored as binary arrays"
   ]
  },
  {
   "cell_type": "code",
   "execution_count": 12,
   "metadata": {
    "execution": {
     "iopub.execute_input": "2024-07-04T04:49:07.475900Z",
     "iopub.status.busy": "2024-07-04T04:49:07.475465Z",
     "iopub.status.idle": "2024-07-04T04:49:07.499508Z",
     "shell.execute_reply": "2024-07-04T04:49:07.498922Z"
    },
    "scrolled": true
   },
   "outputs": [
    {
     "data": {
      "text/plain": [
       "{'x1': {'x1': array([[0.11598931],\n",
       "         [0.11598931],\n",
       "         [0.21286313],\n",
       "         [0.21286313],\n",
       "         [0.92293928],\n",
       "         [0.92293928],\n",
       "         [0.90136574],\n",
       "         [0.90136574],\n",
       "         [0.8769658 ],\n",
       "         [0.8769658 ],\n",
       "         [0.32315716],\n",
       "         [0.32315716],\n",
       "         [0.26270289],\n",
       "         [0.26270289],\n",
       "         [0.90149755],\n",
       "         [0.90149755],\n",
       "         [0.93783864],\n",
       "         [0.93783864],\n",
       "         [0.25315258],\n",
       "         [0.25315258],\n",
       "         [0.90300006],\n",
       "         [0.90300006],\n",
       "         [0.06031209],\n",
       "         [0.06031209],\n",
       "         [0.47977972],\n",
       "         [0.47977972],\n",
       "         [0.29864918],\n",
       "         [0.29864918],\n",
       "         [0.03083829],\n",
       "         [0.03083829],\n",
       "         [0.03562726],\n",
       "         [0.03562726],\n",
       "         [0.139739  ],\n",
       "         [0.139739  ],\n",
       "         [0.21169696],\n",
       "         [0.21169696],\n",
       "         [0.56213114],\n",
       "         [0.56213114],\n",
       "         [0.21659896],\n",
       "         [0.21659896],\n",
       "         [0.68844467],\n",
       "         [0.68844467],\n",
       "         [0.13780924],\n",
       "         [0.13780924],\n",
       "         [0.10708639],\n",
       "         [0.10708639],\n",
       "         [0.634253  ],\n",
       "         [0.634253  ],\n",
       "         [0.37655305],\n",
       "         [0.37655305],\n",
       "         [0.12881508],\n",
       "         [0.12881508],\n",
       "         [0.04328703],\n",
       "         [0.04328703],\n",
       "         [0.83908589],\n",
       "         [0.83908589],\n",
       "         [0.32769794],\n",
       "         [0.32769794],\n",
       "         [0.19864573],\n",
       "         [0.19864573],\n",
       "         [0.61505394],\n",
       "         [0.61505394],\n",
       "         [0.03830197],\n",
       "         [0.03830197],\n",
       "         [0.33412709],\n",
       "         [0.33412709],\n",
       "         [0.02797657],\n",
       "         [0.02797657],\n",
       "         [0.98219825],\n",
       "         [0.98219825],\n",
       "         [0.1796411 ],\n",
       "         [0.1796411 ],\n",
       "         [0.11318137],\n",
       "         [0.11318137],\n",
       "         [0.71118967],\n",
       "         [0.71118967],\n",
       "         [0.86325376],\n",
       "         [0.86325376],\n",
       "         [0.73563352],\n",
       "         [0.73563352],\n",
       "         [0.19763666],\n",
       "         [0.19763666],\n",
       "         [0.20210883],\n",
       "         [0.20210883],\n",
       "         [0.56579678],\n",
       "         [0.56579678],\n",
       "         [0.581679  ],\n",
       "         [0.581679  ],\n",
       "         [0.0635936 ],\n",
       "         [0.0635936 ],\n",
       "         [0.16699173],\n",
       "         [0.16699173],\n",
       "         [0.47711506],\n",
       "         [0.47711506],\n",
       "         [0.83029125],\n",
       "         [0.83029125],\n",
       "         [0.4516259 ],\n",
       "         [0.4516259 ],\n",
       "         [0.59006691],\n",
       "         [0.59006691],\n",
       "         [0.43209616],\n",
       "         [0.43209616],\n",
       "         [0.39538956],\n",
       "         [0.39538956],\n",
       "         [0.42890593],\n",
       "         [0.42890593],\n",
       "         [0.83518255],\n",
       "         [0.83518255],\n",
       "         [0.46441963],\n",
       "         [0.46441963],\n",
       "         [0.64163336],\n",
       "         [0.64163336],\n",
       "         [0.89133301],\n",
       "         [0.89133301],\n",
       "         [0.75613578],\n",
       "         [0.75613578],\n",
       "         [0.06195634],\n",
       "         [0.06195634],\n",
       "         [0.34754739],\n",
       "         [0.34754739],\n",
       "         [0.08898821],\n",
       "         [0.08898821],\n",
       "         [0.94630076],\n",
       "         [0.94630076],\n",
       "         [0.28095026],\n",
       "         [0.28095026],\n",
       "         [0.38537187],\n",
       "         [0.38537187],\n",
       "         [0.11653662],\n",
       "         [0.11653662],\n",
       "         [0.27979106],\n",
       "         [0.27979106],\n",
       "         [0.87671624],\n",
       "         [0.87671624],\n",
       "         [0.2133753 ],\n",
       "         [0.2133753 ],\n",
       "         [0.28834581],\n",
       "         [0.28834581],\n",
       "         [0.41069485],\n",
       "         [0.41069485],\n",
       "         [0.50693117],\n",
       "         [0.50693117],\n",
       "         [0.5767762 ],\n",
       "         [0.5767762 ],\n",
       "         [0.93191371],\n",
       "         [0.93191371],\n",
       "         [0.61103931],\n",
       "         [0.61103931],\n",
       "         [0.64465686],\n",
       "         [0.64465686],\n",
       "         [0.60025261],\n",
       "         [0.60025261],\n",
       "         [0.30764433],\n",
       "         [0.30764433],\n",
       "         [0.71603287],\n",
       "         [0.71603287],\n",
       "         [0.34049067],\n",
       "         [0.34049067],\n",
       "         [0.64283952],\n",
       "         [0.64283952],\n",
       "         [0.69058254],\n",
       "         [0.69058254],\n",
       "         [0.13316947],\n",
       "         [0.13316947],\n",
       "         [0.31564315],\n",
       "         [0.31564315],\n",
       "         [0.20276967],\n",
       "         [0.20276967],\n",
       "         [0.68883877],\n",
       "         [0.68883877],\n",
       "         [0.96003147],\n",
       "         [0.96003147],\n",
       "         [0.72568223],\n",
       "         [0.72568223],\n",
       "         [0.73646257],\n",
       "         [0.73646257],\n",
       "         [0.32889462],\n",
       "         [0.32889462],\n",
       "         [0.92134773],\n",
       "         [0.92134773],\n",
       "         [0.06668764],\n",
       "         [0.06668764],\n",
       "         [0.64743439],\n",
       "         [0.64743439],\n",
       "         [0.85184144],\n",
       "         [0.85184144],\n",
       "         [0.63726069],\n",
       "         [0.63726069],\n",
       "         [0.55296639],\n",
       "         [0.55296639],\n",
       "         [0.85733567],\n",
       "         [0.85733567],\n",
       "         [0.85394459],\n",
       "         [0.85394459],\n",
       "         [0.49657271],\n",
       "         [0.49657271],\n",
       "         [0.15526332],\n",
       "         [0.15526332],\n",
       "         [0.59646524],\n",
       "         [0.59646524]])}}"
      ]
     },
     "execution_count": 12,
     "metadata": {},
     "output_type": "execute_result"
    }
   ],
   "source": [
    "ds = load_by_id(run_id_a)\n",
    "ds.get_parameter_data('x1')"
   ]
  },
  {
   "cell_type": "code",
   "execution_count": null,
   "metadata": {},
   "outputs": [],
   "source": []
  }
 ],
 "metadata": {
  "kernelspec": {
   "display_name": "Python 3",
   "language": "python",
   "name": "python3"
  },
  "language_info": {
   "codemirror_mode": {
    "name": "ipython",
    "version": 3
   },
   "file_extension": ".py",
   "mimetype": "text/x-python",
   "name": "python",
   "nbconvert_exporter": "python",
   "pygments_lexer": "ipython3",
   "version": "3.11.9"
  },
  "nbsphinx": {
   "timeout": 600
  },
  "toc": {
   "base_numbering": 1,
   "nav_menu": {},
   "number_sections": true,
   "sideBar": true,
   "skip_h1_title": false,
   "title_cell": "Table of Contents",
   "title_sidebar": "Contents",
   "toc_cell": false,
   "toc_position": {},
   "toc_section_display": true,
   "toc_window_display": false
  },
  "varInspector": {
   "cols": {
    "lenName": 16,
    "lenType": 16,
    "lenVar": 40
   },
   "kernels_config": {
    "python": {
     "delete_cmd_postfix": "",
     "delete_cmd_prefix": "del ",
     "library": "var_list.py",
     "varRefreshCmd": "print(var_dic_list())"
    },
    "r": {
     "delete_cmd_postfix": ") ",
     "delete_cmd_prefix": "rm(",
     "library": "var_list.r",
     "varRefreshCmd": "cat(var_dic_list()) "
    }
   },
   "types_to_exclude": [
    "module",
    "function",
    "builtin_function_or_method",
    "instance",
    "_Feature"
   ],
   "window_display": false
  }
 },
 "nbformat": 4,
 "nbformat_minor": 4
}
