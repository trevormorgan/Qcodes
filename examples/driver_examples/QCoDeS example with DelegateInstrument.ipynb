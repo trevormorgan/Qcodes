{
 "cells": [
  {
   "cell_type": "markdown",
   "id": "plain-primary",
   "metadata": {},
   "source": [
    "# Qcodes example with DelegateInstrument driver\n",
    "\n",
    "This notebooks explains how to use the `DelegateInstrument` driver.\n",
    "\n",
    "## About\n",
    "The goal of the `DelegateInstrument` driver is to make it easier to combine different parameters together into a new \"virtual\" instrument. Each parameter on a `DelegateInstrument` can point to one or more parameters on other instruments in the station.\n",
    "\n",
    "## Usage\n",
    "The way it's used is mainly by specifying an entry in the station YAML. For instance, let's say you want to use a magnetic field coil. The driver has a method set_field(value, block), that by default is set to block=True, which means the field is ramped in a way that blocks further execution until the desired value is reached. However, let's say you are creating a measurement in which you want the parameter to be set, and while the value is ramping, you want to measure other parameters. This can be done by using `DelegateInstrument` and specifying a custom `setter` for the parameter that gets and sets the magnetic field.\n",
    "\n",
    "By default, each parameter is represented by a `DelegateParameter`. The `DelegateInstrument` also supports passing multiple source parameters to a given parameter. In order to do this, simply specify multiple parameters in the dictionary values  under the `parameters` key.\n",
    "\n",
    "It can also add instrument channels, specified under a separate key `channels`, shown in the second half of the notebook."
   ]
  },
  {
   "cell_type": "code",
   "execution_count": 1,
   "id": "sapphire-quebec",
   "metadata": {
    "execution": {
     "iopub.execute_input": "2024-07-04T04:47:43.546413Z",
     "iopub.status.busy": "2024-07-04T04:47:43.545833Z",
     "iopub.status.idle": "2024-07-04T04:47:43.554325Z",
     "shell.execute_reply": "2024-07-04T04:47:43.553720Z"
    }
   },
   "outputs": [
    {
     "name": "stdout",
     "output_type": "stream",
     "text": [
      "Writing example.yaml\n"
     ]
    }
   ],
   "source": [
    "%%writefile example.yaml\n",
    "\n",
    "instruments:\n",
    "  field_X:\n",
    "    type: qcodes.instrument_drivers.mock_instruments.MockField\n",
    "\n",
    "  field:\n",
    "    type: qcodes.instrument.delegate.DelegateInstrument\n",
    "    init:\n",
    "      parameters:\n",
    "        X:\n",
    "          - field_X.field\n",
    "        ramp_rate:\n",
    "          - field_X.ramp_rate\n",
    "        combined:\n",
    "          - field_X.field\n",
    "          - field_X.ramp_rate\n",
    "      set_initial_values_on_load: true\n",
    "      initial_values:\n",
    "        ramp_rate: 1.0\n",
    "      setters:\n",
    "        X:\n",
    "          method: field_X.set_field\n",
    "          block: false"
   ]
  },
  {
   "cell_type": "code",
   "execution_count": 2,
   "id": "younger-newspaper",
   "metadata": {
    "execution": {
     "iopub.execute_input": "2024-07-04T04:47:43.556751Z",
     "iopub.status.busy": "2024-07-04T04:47:43.556399Z",
     "iopub.status.idle": "2024-07-04T04:47:44.393879Z",
     "shell.execute_reply": "2024-07-04T04:47:44.393241Z"
    }
   },
   "outputs": [
    {
     "name": "stdout",
     "output_type": "stream",
     "text": [
      "Logging hadn't been started.\n",
      "Activating auto-logging. Current session state plus future input saved.\n",
      "Filename       : /home/runner/.qcodes/logs/command_history.log\n",
      "Mode           : append\n",
      "Output logging : True\n",
      "Raw input log  : False\n",
      "Timestamping   : True\n",
      "State          : active\n"
     ]
    },
    {
     "name": "stdout",
     "output_type": "stream",
     "text": [
      "Qcodes Logfile : /home/runner/.qcodes/logs/240704-6446-qcodes.log\n"
     ]
    }
   ],
   "source": [
    "import qcodes as qc\n",
    "from qcodes.dataset import (\n",
    "    Measurement,\n",
    "    initialise_or_create_database_at,\n",
    "    load_or_create_experiment,\n",
    ")"
   ]
  },
  {
   "cell_type": "code",
   "execution_count": 3,
   "id": "muslim-briefs",
   "metadata": {
    "execution": {
     "iopub.execute_input": "2024-07-04T04:47:44.396712Z",
     "iopub.status.busy": "2024-07-04T04:47:44.396496Z",
     "iopub.status.idle": "2024-07-04T04:47:44.417947Z",
     "shell.execute_reply": "2024-07-04T04:47:44.417335Z"
    }
   },
   "outputs": [],
   "source": [
    "station = qc.Station(config_file=\"example.yaml\")"
   ]
  },
  {
   "cell_type": "code",
   "execution_count": 4,
   "id": "greatest-antenna",
   "metadata": {
    "execution": {
     "iopub.execute_input": "2024-07-04T04:47:44.420726Z",
     "iopub.status.busy": "2024-07-04T04:47:44.420246Z",
     "iopub.status.idle": "2024-07-04T04:47:44.440243Z",
     "shell.execute_reply": "2024-07-04T04:47:44.439668Z"
    }
   },
   "outputs": [],
   "source": [
    "field_X = station.load_field_X()\n",
    "field = station.load_field(station=station)"
   ]
  },
  {
   "cell_type": "code",
   "execution_count": 5,
   "id": "every-playing",
   "metadata": {
    "execution": {
     "iopub.execute_input": "2024-07-04T04:47:44.443114Z",
     "iopub.status.busy": "2024-07-04T04:47:44.442743Z",
     "iopub.status.idle": "2024-07-04T04:47:44.448435Z",
     "shell.execute_reply": "2024-07-04T04:47:44.447845Z"
    }
   },
   "outputs": [
    {
     "data": {
      "text/plain": [
       "0.0"
      ]
     },
     "execution_count": 5,
     "metadata": {},
     "output_type": "execute_result"
    }
   ],
   "source": [
    "field.X()"
   ]
  },
  {
   "cell_type": "code",
   "execution_count": 6,
   "id": "undefined-worst",
   "metadata": {
    "execution": {
     "iopub.execute_input": "2024-07-04T04:47:44.451101Z",
     "iopub.status.busy": "2024-07-04T04:47:44.450752Z",
     "iopub.status.idle": "2024-07-04T04:47:44.453879Z",
     "shell.execute_reply": "2024-07-04T04:47:44.453228Z"
    }
   },
   "outputs": [],
   "source": [
    "field.X(1.)"
   ]
  },
  {
   "cell_type": "code",
   "execution_count": 7,
   "id": "recreational-suggestion",
   "metadata": {
    "execution": {
     "iopub.execute_input": "2024-07-04T04:47:44.456279Z",
     "iopub.status.busy": "2024-07-04T04:47:44.455783Z",
     "iopub.status.idle": "2024-07-04T04:47:44.460377Z",
     "shell.execute_reply": "2024-07-04T04:47:44.459768Z"
    }
   },
   "outputs": [
    {
     "data": {
      "text/plain": [
       "8.653004964192708e-05"
      ]
     },
     "execution_count": 7,
     "metadata": {},
     "output_type": "execute_result"
    }
   ],
   "source": [
    "field.X()"
   ]
  },
  {
   "cell_type": "code",
   "execution_count": 8,
   "id": "adopted-exchange",
   "metadata": {
    "execution": {
     "iopub.execute_input": "2024-07-04T04:47:44.462836Z",
     "iopub.status.busy": "2024-07-04T04:47:44.462337Z",
     "iopub.status.idle": "2024-07-04T04:47:44.467214Z",
     "shell.execute_reply": "2024-07-04T04:47:44.466599Z"
    }
   },
   "outputs": [
    {
     "data": {
      "text/plain": [
       "0.00019555886586507162"
      ]
     },
     "execution_count": 8,
     "metadata": {},
     "output_type": "execute_result"
    }
   ],
   "source": [
    "field.X()"
   ]
  },
  {
   "cell_type": "code",
   "execution_count": 9,
   "id": "bound-broadcasting",
   "metadata": {
    "execution": {
     "iopub.execute_input": "2024-07-04T04:47:44.469606Z",
     "iopub.status.busy": "2024-07-04T04:47:44.469115Z",
     "iopub.status.idle": "2024-07-04T04:47:44.473702Z",
     "shell.execute_reply": "2024-07-04T04:47:44.473136Z"
    }
   },
   "outputs": [
    {
     "data": {
      "text/plain": [
       "0.0003113865852355957"
      ]
     },
     "execution_count": 9,
     "metadata": {},
     "output_type": "execute_result"
    }
   ],
   "source": [
    "field.X()"
   ]
  },
  {
   "cell_type": "code",
   "execution_count": 10,
   "id": "casual-ghost",
   "metadata": {
    "execution": {
     "iopub.execute_input": "2024-07-04T04:47:44.476026Z",
     "iopub.status.busy": "2024-07-04T04:47:44.475613Z",
     "iopub.status.idle": "2024-07-04T04:47:44.480299Z",
     "shell.execute_reply": "2024-07-04T04:47:44.479660Z"
    }
   },
   "outputs": [
    {
     "data": {
      "text/plain": [
       "0.00041593313217163085"
      ]
     },
     "execution_count": 10,
     "metadata": {},
     "output_type": "execute_result"
    }
   ],
   "source": [
    "field.X()"
   ]
  },
  {
   "cell_type": "markdown",
   "id": "alike-process",
   "metadata": {},
   "source": [
    "As you can see, the field is now ramped in the background with the specified ramp rate. Now, let's try to create a measurement that uses this ability, and ramps the field in the background while measuring:"
   ]
  },
  {
   "cell_type": "code",
   "execution_count": 11,
   "id": "sustained-tiger",
   "metadata": {
    "execution": {
     "iopub.execute_input": "2024-07-04T04:47:44.482952Z",
     "iopub.status.busy": "2024-07-04T04:47:44.482653Z",
     "iopub.status.idle": "2024-07-04T04:47:44.487985Z",
     "shell.execute_reply": "2024-07-04T04:47:44.487395Z"
    }
   },
   "outputs": [],
   "source": [
    "field.ramp_rate(10.)\n",
    "field_X.field(0.0)"
   ]
  },
  {
   "cell_type": "code",
   "execution_count": 12,
   "id": "pharmaceutical-partition",
   "metadata": {
    "execution": {
     "iopub.execute_input": "2024-07-04T04:47:44.490442Z",
     "iopub.status.busy": "2024-07-04T04:47:44.489942Z",
     "iopub.status.idle": "2024-07-04T04:47:44.494431Z",
     "shell.execute_reply": "2024-07-04T04:47:44.493814Z"
    }
   },
   "outputs": [
    {
     "data": {
      "text/plain": [
       "0.0"
      ]
     },
     "execution_count": 12,
     "metadata": {},
     "output_type": "execute_result"
    }
   ],
   "source": [
    "field.X()"
   ]
  },
  {
   "cell_type": "code",
   "execution_count": 13,
   "id": "happy-ordinance",
   "metadata": {
    "execution": {
     "iopub.execute_input": "2024-07-04T04:47:44.496640Z",
     "iopub.status.busy": "2024-07-04T04:47:44.496286Z",
     "iopub.status.idle": "2024-07-04T04:47:45.763763Z",
     "shell.execute_reply": "2024-07-04T04:47:45.763050Z"
    }
   },
   "outputs": [
    {
     "name": "stdout",
     "output_type": "stream",
     "text": [
      "Starting experimental run with id: 1. \n"
     ]
    }
   ],
   "source": [
    "import time\n",
    "\n",
    "initialise_or_create_database_at(\"delegate_instrument_example.db\")\n",
    "load_or_create_experiment(\"delegate_instrument_experiment\")\n",
    "\n",
    "meas = Measurement(station=station)\n",
    "meas.register_parameter(field.X)\n",
    "\n",
    "with meas.run() as datasaver:\n",
    "    for B in [0.1, 0.0]:\n",
    "        field.X(B)\n",
    "        while field.X() != B:\n",
    "            datasaver.add_result((field.X, field.X()))\n",
    "            time.sleep(0.01)\n",
    "    datasaver.flush_data_to_database()"
   ]
  },
  {
   "cell_type": "code",
   "execution_count": 14,
   "id": "short-medium",
   "metadata": {
    "execution": {
     "iopub.execute_input": "2024-07-04T04:47:45.766311Z",
     "iopub.status.busy": "2024-07-04T04:47:45.766121Z",
     "iopub.status.idle": "2024-07-04T04:47:46.520675Z",
     "shell.execute_reply": "2024-07-04T04:47:46.519935Z"
    }
   },
   "outputs": [
    {
     "data": {
      "text/plain": [
       "<Axes: >"
      ]
     },
     "execution_count": 14,
     "metadata": {},
     "output_type": "execute_result"
    },
    {
     "data": {
      "image/png": "[encoded data removed]",
      "text/plain": [
       "<Figure size 640x480 with 1 Axes>"
      ]
     },
     "metadata": {},
     "output_type": "display_data"
    }
   ],
   "source": [
    "datasaver.dataset.to_pandas_dataframe().plot()"
   ]
  },
  {
   "cell_type": "markdown",
   "id": "incomplete-vietnamese",
   "metadata": {},
   "source": [
    "When specifying multiple source parameters on a given parameter, the grouped parameter will automatically return a `namedtuple` that returns both values."
   ]
  },
  {
   "cell_type": "code",
   "execution_count": 15,
   "id": "dangerous-finder",
   "metadata": {
    "execution": {
     "iopub.execute_input": "2024-07-04T04:47:46.525351Z",
     "iopub.status.busy": "2024-07-04T04:47:46.524046Z",
     "iopub.status.idle": "2024-07-04T04:47:46.531807Z",
     "shell.execute_reply": "2024-07-04T04:47:46.531127Z"
    }
   },
   "outputs": [
    {
     "data": {
      "text/plain": [
       "combined(field=0.0, ramp_rate=10.0)"
      ]
     },
     "execution_count": 15,
     "metadata": {},
     "output_type": "execute_result"
    }
   ],
   "source": [
    "field.combined()"
   ]
  },
  {
   "cell_type": "markdown",
   "id": "consolidated-cooper",
   "metadata": {},
   "source": [
    "We can now also create a custom parameter that does a simple calculation based on the current parameters."
   ]
  },
  {
   "cell_type": "code",
   "execution_count": 16,
   "id": "designed-bloom",
   "metadata": {
    "execution": {
     "iopub.execute_input": "2024-07-04T04:47:46.535975Z",
     "iopub.status.busy": "2024-07-04T04:47:46.534850Z",
     "iopub.status.idle": "2024-07-04T04:47:46.540251Z",
     "shell.execute_reply": "2024-07-04T04:47:46.539674Z"
    }
   },
   "outputs": [],
   "source": [
    "import numpy as np\n",
    "\n",
    "\n",
    "def calculate_ramp_time(X, ramp_rate):\n",
    "    \"\"\"Calculate ramp time in seconds\"\"\"\n",
    "    dfield = np.abs(field.target_field - X)\n",
    "    return 60. * dfield/ramp_rate"
   ]
  },
  {
   "cell_type": "code",
   "execution_count": 17,
   "id": "disabled-logic",
   "metadata": {
    "execution": {
     "iopub.execute_input": "2024-07-04T04:47:46.543868Z",
     "iopub.status.busy": "2024-07-04T04:47:46.542918Z",
     "iopub.status.idle": "2024-07-04T04:47:46.547530Z",
     "shell.execute_reply": "2024-07-04T04:47:46.546982Z"
    },
    "scrolled": true
   },
   "outputs": [],
   "source": [
    "field._create_and_add_parameter(\n",
    "    group_name=\"ramp_time\",\n",
    "    station=station,\n",
    "    paths=[\"field_X.field\", \"field_X.ramp_rate\"],\n",
    "    formatter=calculate_ramp_time\n",
    ")"
   ]
  },
  {
   "cell_type": "code",
   "execution_count": 18,
   "id": "adverse-february",
   "metadata": {
    "execution": {
     "iopub.execute_input": "2024-07-04T04:47:46.551093Z",
     "iopub.status.busy": "2024-07-04T04:47:46.550136Z",
     "iopub.status.idle": "2024-07-04T04:47:46.556762Z",
     "shell.execute_reply": "2024-07-04T04:47:46.556212Z"
    }
   },
   "outputs": [
    {
     "data": {
      "text/plain": [
       "6.0"
      ]
     },
     "execution_count": 18,
     "metadata": {},
     "output_type": "execute_result"
    }
   ],
   "source": [
    "field.ramp_rate(1.0)\n",
    "field.target_field = 0.1\n",
    "field.ramp_time()"
   ]
  },
  {
   "cell_type": "code",
   "execution_count": 19,
   "id": "statutory-xerox",
   "metadata": {
    "execution": {
     "iopub.execute_input": "2024-07-04T04:47:46.560348Z",
     "iopub.status.busy": "2024-07-04T04:47:46.559404Z",
     "iopub.status.idle": "2024-07-04T04:47:46.563532Z",
     "shell.execute_reply": "2024-07-04T04:47:46.562995Z"
    }
   },
   "outputs": [],
   "source": [
    "field.X(0.1)"
   ]
  },
  {
   "cell_type": "code",
   "execution_count": 20,
   "id": "varying-auditor",
   "metadata": {
    "execution": {
     "iopub.execute_input": "2024-07-04T04:47:46.567067Z",
     "iopub.status.busy": "2024-07-04T04:47:46.566122Z",
     "iopub.status.idle": "2024-07-04T04:47:46.572317Z",
     "shell.execute_reply": "2024-07-04T04:47:46.571782Z"
    }
   },
   "outputs": [
    {
     "data": {
      "text/plain": [
       "5.993464231491089"
      ]
     },
     "execution_count": 20,
     "metadata": {},
     "output_type": "execute_result"
    }
   ],
   "source": [
    "field.ramp_time()"
   ]
  },
  {
   "cell_type": "code",
   "execution_count": 21,
   "id": "chubby-nickel",
   "metadata": {
    "execution": {
     "iopub.execute_input": "2024-07-04T04:47:46.575903Z",
     "iopub.status.busy": "2024-07-04T04:47:46.574966Z",
     "iopub.status.idle": "2024-07-04T04:47:47.580925Z",
     "shell.execute_reply": "2024-07-04T04:47:47.580405Z"
    }
   },
   "outputs": [
    {
     "data": {
      "text/plain": [
       "4.984281063079834"
      ]
     },
     "execution_count": 21,
     "metadata": {},
     "output_type": "execute_result"
    }
   ],
   "source": [
    "import time\n",
    "\n",
    "time.sleep(1.)\n",
    "field.ramp_time()"
   ]
  },
  {
   "cell_type": "code",
   "execution_count": 22,
   "id": "italian-liberty",
   "metadata": {
    "execution": {
     "iopub.execute_input": "2024-07-04T04:47:47.583214Z",
     "iopub.status.busy": "2024-07-04T04:47:47.582903Z",
     "iopub.status.idle": "2024-07-04T04:47:48.587668Z",
     "shell.execute_reply": "2024-07-04T04:47:48.587041Z"
    }
   },
   "outputs": [
    {
     "data": {
      "text/plain": [
       "3.9776833057403564"
      ]
     },
     "execution_count": 22,
     "metadata": {},
     "output_type": "execute_result"
    }
   ],
   "source": [
    "import time\n",
    "\n",
    "time.sleep(1.)\n",
    "field.ramp_time()"
   ]
  },
  {
   "attachments": {},
   "cell_type": "markdown",
   "id": "c1145a2d",
   "metadata": {},
   "source": [
    "## Devices with channels"
   ]
  },
  {
   "cell_type": "markdown",
   "id": "182693f8",
   "metadata": {},
   "source": [
    "The YAML file below specifies the instruments with the channels/parameters we wish to group into a new instrument, here called \"device\". The first example simply adds the channel 'as is' using self.add_submodule, while the readout parameter is added as a DelegateParameter."
   ]
  },
  {
   "cell_type": "code",
   "execution_count": 23,
   "id": "a88d5103",
   "metadata": {
    "execution": {
     "iopub.execute_input": "2024-07-04T04:47:48.590716Z",
     "iopub.status.busy": "2024-07-04T04:47:48.590279Z",
     "iopub.status.idle": "2024-07-04T04:47:48.594745Z",
     "shell.execute_reply": "2024-07-04T04:47:48.594068Z"
    }
   },
   "outputs": [
    {
     "name": "stdout",
     "output_type": "stream",
     "text": [
      "Overwriting example.yaml\n"
     ]
    }
   ],
   "source": [
    "%%writefile example.yaml\n",
    "\n",
    "instruments:\n",
    "  lockin:\n",
    "    type: qcodes.instrument_drivers.mock_instruments.MockLockin\n",
    "\n",
    "  dac:\n",
    "    type: qcodes.instrument_drivers.mock_instruments.MockDAC\n",
    "\n",
    "  device:\n",
    "    type: qcodes.instrument.delegate.DelegateInstrument\n",
    "    init:\n",
    "      parameters:\n",
    "        readout: lockin.X\n",
    "      channels:\n",
    "        gate_1: dac.ch01\n",
    "      set_initial_values_on_load: true\n",
    "      initial_values:\n",
    "        readout: 1e-5\n",
    "        gate_1.voltage.post_delay: 0.01"
   ]
  },
  {
   "cell_type": "code",
   "execution_count": 24,
   "id": "91f2a8ab",
   "metadata": {
    "execution": {
     "iopub.execute_input": "2024-07-04T04:47:48.597203Z",
     "iopub.status.busy": "2024-07-04T04:47:48.596591Z",
     "iopub.status.idle": "2024-07-04T04:47:48.607657Z",
     "shell.execute_reply": "2024-07-04T04:47:48.607047Z"
    }
   },
   "outputs": [],
   "source": [
    "station = qc.Station(config_file=\"example.yaml\")"
   ]
  },
  {
   "cell_type": "code",
   "execution_count": 25,
   "id": "45b22762",
   "metadata": {
    "execution": {
     "iopub.execute_input": "2024-07-04T04:47:48.609787Z",
     "iopub.status.busy": "2024-07-04T04:47:48.609441Z",
     "iopub.status.idle": "2024-07-04T04:47:48.641593Z",
     "shell.execute_reply": "2024-07-04T04:47:48.641136Z"
    }
   },
   "outputs": [],
   "source": [
    "lockin = station.load_lockin()\n",
    "dac = station.load_dac()\n",
    "device = station.load_device(station=station)"
   ]
  },
  {
   "cell_type": "code",
   "execution_count": 26,
   "id": "9bfa54fb",
   "metadata": {
    "execution": {
     "iopub.execute_input": "2024-07-04T04:47:48.643737Z",
     "iopub.status.busy": "2024-07-04T04:47:48.643320Z",
     "iopub.status.idle": "2024-07-04T04:47:48.646652Z",
     "shell.execute_reply": "2024-07-04T04:47:48.646175Z"
    }
   },
   "outputs": [
    {
     "name": "stdout",
     "output_type": "stream",
     "text": [
      "<MockDACChannel: dac_ch01 of MockDAC: dac>\n",
      "0.01\n"
     ]
    }
   ],
   "source": [
    "print(device.gate_1)\n",
    "print(device.gate_1.voltage.post_delay)"
   ]
  },
  {
   "cell_type": "code",
   "execution_count": 27,
   "id": "91d57fe0",
   "metadata": {
    "execution": {
     "iopub.execute_input": "2024-07-04T04:47:48.648781Z",
     "iopub.status.busy": "2024-07-04T04:47:48.648480Z",
     "iopub.status.idle": "2024-07-04T04:47:48.663054Z",
     "shell.execute_reply": "2024-07-04T04:47:48.662467Z"
    }
   },
   "outputs": [
    {
     "name": "stdout",
     "output_type": "stream",
     "text": [
      "0.0\n"
     ]
    },
    {
     "data": {
      "text/plain": [
       "-0.6"
      ]
     },
     "execution_count": 27,
     "metadata": {},
     "output_type": "execute_result"
    }
   ],
   "source": [
    "print(device.gate_1.voltage())\n",
    "device.gate_1.voltage(-0.6)\n",
    "device.gate_1.voltage()"
   ]
  },
  {
   "cell_type": "markdown",
   "id": "37e1c2c3",
   "metadata": {},
   "source": [
    "The second example adds a channel using a custom channel class, which takes the initial channel and its name as input and has a parameter current_valid_ranges."
   ]
  },
  {
   "cell_type": "code",
   "execution_count": 28,
   "id": "7e4becd1",
   "metadata": {
    "execution": {
     "iopub.execute_input": "2024-07-04T04:47:48.665499Z",
     "iopub.status.busy": "2024-07-04T04:47:48.665014Z",
     "iopub.status.idle": "2024-07-04T04:47:48.668689Z",
     "shell.execute_reply": "2024-07-04T04:47:48.668224Z"
    }
   },
   "outputs": [
    {
     "name": "stdout",
     "output_type": "stream",
     "text": [
      "Overwriting example.yaml\n"
     ]
    }
   ],
   "source": [
    "%%writefile example.yaml\n",
    "\n",
    "instruments:\n",
    "  lockin:\n",
    "    type: qcodes.instrument_drivers.mock_instruments.MockLockin\n",
    "\n",
    "  dac:\n",
    "    type: qcodes.instrument_drivers.mock_instruments.MockDAC\n",
    "\n",
    "  device:\n",
    "    type: qcodes.instrument.delegate.DelegateInstrument\n",
    "    init:\n",
    "      parameters:\n",
    "        readout: lockin.X\n",
    "      channels:\n",
    "        type: qcodes.instrument_drivers.mock_instruments.MockCustomChannel\n",
    "        gate_1:\n",
    "          channel: dac.ch01\n",
    "          current_valid_range: [-0.5, 0]\n",
    "      set_initial_values_on_load: true\n",
    "      initial_values:\n",
    "        readout: 1e-5"
   ]
  },
  {
   "cell_type": "code",
   "execution_count": 29,
   "id": "2e3ca8d5",
   "metadata": {
    "execution": {
     "iopub.execute_input": "2024-07-04T04:47:48.670749Z",
     "iopub.status.busy": "2024-07-04T04:47:48.670423Z",
     "iopub.status.idle": "2024-07-04T04:47:48.673212Z",
     "shell.execute_reply": "2024-07-04T04:47:48.672746Z"
    }
   },
   "outputs": [],
   "source": [
    "lockin.close()\n",
    "dac.close()"
   ]
  },
  {
   "cell_type": "code",
   "execution_count": 30,
   "id": "2f2d2b2b",
   "metadata": {
    "execution": {
     "iopub.execute_input": "2024-07-04T04:47:48.675506Z",
     "iopub.status.busy": "2024-07-04T04:47:48.675177Z",
     "iopub.status.idle": "2024-07-04T04:47:48.704849Z",
     "shell.execute_reply": "2024-07-04T04:47:48.704401Z"
    }
   },
   "outputs": [],
   "source": [
    "station = qc.Station(config_file=\"example.yaml\")\n",
    "lockin = station.load_lockin()\n",
    "dac = station.load_dac()"
   ]
  },
  {
   "cell_type": "code",
   "execution_count": 31,
   "id": "9cb653b0",
   "metadata": {
    "execution": {
     "iopub.execute_input": "2024-07-04T04:47:48.706873Z",
     "iopub.status.busy": "2024-07-04T04:47:48.706597Z",
     "iopub.status.idle": "2024-07-04T04:47:48.716998Z",
     "shell.execute_reply": "2024-07-04T04:47:48.716572Z"
    }
   },
   "outputs": [],
   "source": [
    "device = station.load_device(station=station)"
   ]
  },
  {
   "cell_type": "code",
   "execution_count": 32,
   "id": "433d9646",
   "metadata": {
    "execution": {
     "iopub.execute_input": "2024-07-04T04:47:48.719130Z",
     "iopub.status.busy": "2024-07-04T04:47:48.718786Z",
     "iopub.status.idle": "2024-07-04T04:47:48.722673Z",
     "shell.execute_reply": "2024-07-04T04:47:48.722187Z"
    }
   },
   "outputs": [
    {
     "data": {
      "text/plain": [
       "<MockCustomChannel: dac_gate_1 of MockDAC: dac>"
      ]
     },
     "execution_count": 32,
     "metadata": {},
     "output_type": "execute_result"
    }
   ],
   "source": [
    "device.gate_1"
   ]
  },
  {
   "cell_type": "code",
   "execution_count": 33,
   "id": "3d2b8faa",
   "metadata": {
    "execution": {
     "iopub.execute_input": "2024-07-04T04:47:48.724730Z",
     "iopub.status.busy": "2024-07-04T04:47:48.724378Z",
     "iopub.status.idle": "2024-07-04T04:47:48.727161Z",
     "shell.execute_reply": "2024-07-04T04:47:48.726683Z"
    }
   },
   "outputs": [],
   "source": [
    "device.gate_1.voltage(-0.3)"
   ]
  },
  {
   "cell_type": "code",
   "execution_count": 34,
   "id": "49def342",
   "metadata": {
    "execution": {
     "iopub.execute_input": "2024-07-04T04:47:48.728966Z",
     "iopub.status.busy": "2024-07-04T04:47:48.728796Z",
     "iopub.status.idle": "2024-07-04T04:47:48.732657Z",
     "shell.execute_reply": "2024-07-04T04:47:48.732104Z"
    }
   },
   "outputs": [
    {
     "data": {
      "text/plain": [
       "-0.3"
      ]
     },
     "execution_count": 34,
     "metadata": {},
     "output_type": "execute_result"
    }
   ],
   "source": [
    "device.gate_1.voltage()"
   ]
  },
  {
   "cell_type": "markdown",
   "id": "7b122128",
   "metadata": {},
   "source": [
    "The MockCustomChannel has a parameter `current_valid_range`."
   ]
  },
  {
   "cell_type": "code",
   "execution_count": 35,
   "id": "d32a06fd",
   "metadata": {
    "execution": {
     "iopub.execute_input": "2024-07-04T04:47:48.734597Z",
     "iopub.status.busy": "2024-07-04T04:47:48.734426Z",
     "iopub.status.idle": "2024-07-04T04:47:48.738423Z",
     "shell.execute_reply": "2024-07-04T04:47:48.737823Z"
    }
   },
   "outputs": [
    {
     "data": {
      "text/plain": [
       "[-0.5, 0]"
      ]
     },
     "execution_count": 35,
     "metadata": {},
     "output_type": "execute_result"
    }
   ],
   "source": [
    "device.gate_1.current_valid_range()"
   ]
  }
 ],
 "metadata": {
  "kernelspec": {
   "display_name": "Python 3 (ipykernel)",
   "language": "python",
   "name": "python3"
  },
  "language_info": {
   "codemirror_mode": {
    "name": "ipython",
    "version": 3
   },
   "file_extension": ".py",
   "mimetype": "text/x-python",
   "name": "python",
   "nbconvert_exporter": "python",
   "pygments_lexer": "ipython3",
   "version": "3.11.9"
  }
 },
 "nbformat": 4,
 "nbformat_minor": 5
}
